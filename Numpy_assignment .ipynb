{
 "cells": [
  {
   "cell_type": "code",
   "execution_count": 1,
   "id": "f0e74e5d",
   "metadata": {},
   "outputs": [],
   "source": [
    "# Create a null vector of size 10 but with the fifth value 1\n",
    "\n",
    "import numpy as np\n",
    "\n",
    "a = np.zeros(10)"
   ]
  },
  {
   "cell_type": "code",
   "execution_count": 2,
   "id": "b8fb12b0",
   "metadata": {},
   "outputs": [
    {
     "data": {
      "text/plain": [
       "array([0., 0., 0., 0., 0., 0., 0., 0., 0., 0.])"
      ]
     },
     "execution_count": 2,
     "metadata": {},
     "output_type": "execute_result"
    }
   ],
   "source": [
    "a"
   ]
  },
  {
   "cell_type": "code",
   "execution_count": 3,
   "id": "73e2a5d0",
   "metadata": {},
   "outputs": [],
   "source": [
    "a[5] = 1"
   ]
  },
  {
   "cell_type": "code",
   "execution_count": 4,
   "id": "5ef102b7",
   "metadata": {},
   "outputs": [
    {
     "name": "stdout",
     "output_type": "stream",
     "text": [
      "[0. 0. 0. 0. 0. 1. 0. 0. 0. 0.]\n"
     ]
    }
   ],
   "source": [
    "print(a)"
   ]
  },
  {
   "cell_type": "code",
   "execution_count": 5,
   "id": "c3c53be6",
   "metadata": {},
   "outputs": [],
   "source": [
    "# Create a vector with values ranging from 10 to 49\n",
    "\n",
    "b = np.arange(10,49)"
   ]
  },
  {
   "cell_type": "code",
   "execution_count": 6,
   "id": "1a503d18",
   "metadata": {},
   "outputs": [
    {
     "name": "stdout",
     "output_type": "stream",
     "text": [
      "[10 11 12 13 14 15 16 17 18 19 20 21 22 23 24 25 26 27 28 29 30 31 32 33\n",
      " 34 35 36 37 38 39 40 41 42 43 44 45 46 47 48]\n"
     ]
    }
   ],
   "source": [
    "print(b)"
   ]
  },
  {
   "cell_type": "code",
   "execution_count": 7,
   "id": "22b2d0ba",
   "metadata": {},
   "outputs": [],
   "source": [
    "# Create 3*3 matrix with values ranging from 0 to 8\n",
    "\n",
    "c = np.arange(0,9)"
   ]
  },
  {
   "cell_type": "code",
   "execution_count": 8,
   "id": "4ea9a2e1",
   "metadata": {},
   "outputs": [
    {
     "data": {
      "text/plain": [
       "array([0, 1, 2, 3, 4, 5, 6, 7, 8])"
      ]
     },
     "execution_count": 8,
     "metadata": {},
     "output_type": "execute_result"
    }
   ],
   "source": [
    "c"
   ]
  },
  {
   "cell_type": "code",
   "execution_count": 9,
   "id": "dfa144bf",
   "metadata": {},
   "outputs": [
    {
     "data": {
      "text/plain": [
       "array([[0, 1, 2],\n",
       "       [3, 4, 5],\n",
       "       [6, 7, 8]])"
      ]
     },
     "execution_count": 9,
     "metadata": {},
     "output_type": "execute_result"
    }
   ],
   "source": [
    "c.reshape(3,3)"
   ]
  },
  {
   "cell_type": "code",
   "execution_count": 10,
   "id": "cb880cc0",
   "metadata": {},
   "outputs": [],
   "source": [
    "# Find the indices of non-zeros element in the matrix [1,2,0,0,4,0]\n",
    "\n",
    "d = np.array([1,2,0,0,4,0])"
   ]
  },
  {
   "cell_type": "code",
   "execution_count": 12,
   "id": "c98802ac",
   "metadata": {},
   "outputs": [
    {
     "name": "stdout",
     "output_type": "stream",
     "text": [
      "The indices of the matrix at which elements are non-zero are  [0, 1, 4]\n"
     ]
    }
   ],
   "source": [
    "l = []\n",
    "for i in range(len(d)):\n",
    "    if d[i] != 0:\n",
    "        l.append(i)\n",
    "print(\"The indices of the matrix at which elements are non-zero are \",l)"
   ]
  },
  {
   "cell_type": "code",
   "execution_count": 15,
   "id": "4ee40d16",
   "metadata": {},
   "outputs": [],
   "source": [
    "# Create a 10x10 array with random values and find the minimum and maximum values.\n",
    "\n",
    "import random\n",
    "\n",
    "arr = np.random.randint(1,10,100)"
   ]
  },
  {
   "cell_type": "code",
   "execution_count": 16,
   "id": "019e1d3f",
   "metadata": {},
   "outputs": [
    {
     "data": {
      "text/plain": [
       "array([6, 4, 9, 9, 2, 9, 1, 3, 1, 9, 9, 4, 1, 9, 9, 9, 7, 3, 2, 2, 6, 5,\n",
       "       6, 8, 6, 8, 6, 3, 9, 5, 9, 2, 1, 5, 7, 7, 6, 3, 6, 4, 1, 8, 6, 1,\n",
       "       1, 6, 7, 5, 5, 5, 2, 4, 6, 4, 9, 3, 1, 8, 1, 5, 7, 1, 9, 1, 6, 2,\n",
       "       1, 6, 2, 2, 7, 7, 7, 2, 6, 1, 7, 8, 7, 5, 9, 8, 6, 8, 8, 2, 1, 6,\n",
       "       6, 8, 2, 9, 8, 1, 2, 2, 7, 5, 6, 8])"
      ]
     },
     "execution_count": 16,
     "metadata": {},
     "output_type": "execute_result"
    }
   ],
   "source": [
    "arr"
   ]
  },
  {
   "cell_type": "code",
   "execution_count": 17,
   "id": "41770457",
   "metadata": {},
   "outputs": [
    {
     "data": {
      "text/plain": [
       "array([[6, 4, 9, 9, 2, 9, 1, 3, 1, 9],\n",
       "       [9, 4, 1, 9, 9, 9, 7, 3, 2, 2],\n",
       "       [6, 5, 6, 8, 6, 8, 6, 3, 9, 5],\n",
       "       [9, 2, 1, 5, 7, 7, 6, 3, 6, 4],\n",
       "       [1, 8, 6, 1, 1, 6, 7, 5, 5, 5],\n",
       "       [2, 4, 6, 4, 9, 3, 1, 8, 1, 5],\n",
       "       [7, 1, 9, 1, 6, 2, 1, 6, 2, 2],\n",
       "       [7, 7, 7, 2, 6, 1, 7, 8, 7, 5],\n",
       "       [9, 8, 6, 8, 8, 2, 1, 6, 6, 8],\n",
       "       [2, 9, 8, 1, 2, 2, 7, 5, 6, 8]])"
      ]
     },
     "execution_count": 17,
     "metadata": {},
     "output_type": "execute_result"
    }
   ],
   "source": [
    "arr.reshape(10,10)"
   ]
  },
  {
   "cell_type": "code",
   "execution_count": 18,
   "id": "6e6686a8",
   "metadata": {},
   "outputs": [
    {
     "data": {
      "text/plain": [
       "1"
      ]
     },
     "execution_count": 18,
     "metadata": {},
     "output_type": "execute_result"
    }
   ],
   "source": [
    "arr.min()"
   ]
  },
  {
   "cell_type": "code",
   "execution_count": 19,
   "id": "bdb85792",
   "metadata": {},
   "outputs": [
    {
     "data": {
      "text/plain": [
       "9"
      ]
     },
     "execution_count": 19,
     "metadata": {},
     "output_type": "execute_result"
    }
   ],
   "source": [
    "arr.max()"
   ]
  },
  {
   "cell_type": "code",
   "execution_count": 20,
   "id": "b32ccf36",
   "metadata": {},
   "outputs": [],
   "source": [
    "# Create a random vector of size 30 and find the mean value.\n",
    "\n",
    "arr_vec = np.arange(1,30,1)"
   ]
  },
  {
   "cell_type": "code",
   "execution_count": 21,
   "id": "00e9ec34",
   "metadata": {},
   "outputs": [
    {
     "data": {
      "text/plain": [
       "array([ 1,  2,  3,  4,  5,  6,  7,  8,  9, 10, 11, 12, 13, 14, 15, 16, 17,\n",
       "       18, 19, 20, 21, 22, 23, 24, 25, 26, 27, 28, 29])"
      ]
     },
     "execution_count": 21,
     "metadata": {},
     "output_type": "execute_result"
    }
   ],
   "source": [
    "arr_vec"
   ]
  },
  {
   "cell_type": "code",
   "execution_count": 22,
   "id": "96138272",
   "metadata": {},
   "outputs": [
    {
     "data": {
      "text/plain": [
       "15.0"
      ]
     },
     "execution_count": 22,
     "metadata": {},
     "output_type": "execute_result"
    }
   ],
   "source": [
    "arr_vec.mean()"
   ]
  }
 ],
 "metadata": {
  "kernelspec": {
   "display_name": "Python 3 (ipykernel)",
   "language": "python",
   "name": "python3"
  },
  "language_info": {
   "codemirror_mode": {
    "name": "ipython",
    "version": 3
   },
   "file_extension": ".py",
   "mimetype": "text/x-python",
   "name": "python",
   "nbconvert_exporter": "python",
   "pygments_lexer": "ipython3",
   "version": "3.9.7"
  }
 },
 "nbformat": 4,
 "nbformat_minor": 5
}
